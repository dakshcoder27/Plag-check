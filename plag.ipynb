{
 "cells": [
  {
   "cell_type": "code",
   "execution_count": 1,
   "id": "4ae1a26a",
   "metadata": {},
   "outputs": [],
   "source": [
    "import os\n",
    "import re\n",
    "import networkx as nx\n",
    "from sklearn.feature_extraction.text import TfidfVectorizer\n",
    "from sklearn.metrics.pairwise import cosine_similarity"
   ]
  },
  {
   "cell_type": "code",
   "execution_count": 2,
   "id": "f67a63d1",
   "metadata": {},
   "outputs": [],
   "source": [
    "def preprocess_code(code):\n",
    "    code = re.sub(r'//.*|/\\*[\\s\\S]*?\\*/|#.*', '', code)  # Remove comments\n",
    "    code = re.sub(r'\\s+', ' ', code)  # Normalize whitespace\n",
    "    return code.strip()"
   ]
  },
  {
   "cell_type": "code",
   "execution_count": 3,
   "id": "1c2ed3f1",
   "metadata": {},
   "outputs": [],
   "source": [
    "def load_code_files(folder_path):\n",
    "    files = []\n",
    "    contents = []\n",
    "    for filename in sorted(os.listdir(folder_path)):\n",
    "        if filename.endswith(\".py\") or filename.endswith(\".cpp\") or filename.endswith(\".java\"):\n",
    "            with open(os.path.join(folder_path, filename), 'r', encoding='utf-8') as file:\n",
    "                files.append(filename)\n",
    "                contents.append(preprocess_code(file.read()))\n",
    "    return files, contents"
   ]
  },
  {
   "cell_type": "code",
   "execution_count": 4,
   "id": "bd1914d1",
   "metadata": {},
   "outputs": [],
   "source": [
    "def compute_similarity_dag(code_folder, threshold=0.6):\n",
    "    files, code_snippets = load_code_files(code_folder)\n",
    "    \n",
    "    # Vectorize using TF-IDF\n",
    "    vectorizer = TfidfVectorizer()\n",
    "    tfidf_matrix = vectorizer.fit_transform(code_snippets)\n",
    "    \n",
    "    # Cosine similarity matrix\n",
    "    similarity = cosine_similarity(tfidf_matrix)\n",
    "    \n",
    "    # 📊 Build DAG\n",
    "    G = nx.DiGraph()\n",
    "    G.add_nodes_from(files)\n",
    "\n",
    "    for i in range(len(files)):\n",
    "        for j in range(i+1, len(files)):  # Only i -> j to prevent cycles\n",
    "            if similarity[i][j] > threshold:\n",
    "                G.add_edge(files[i], files[j], weight=similarity[i][j])\n",
    "    \n",
    "    return G, similarity, files\n"
   ]
  },
  {
   "cell_type": "code",
   "execution_count": null,
   "id": "a1e4723c",
   "metadata": {},
   "outputs": [
    {
     "ename": "FileNotFoundError",
     "evalue": "[WinError 3] The system cannot find the path specified: 'C:\\\\Users\\\\deepak jain\\\\Desktop\\\\plag_check\\\\buy_and_sell_stock'",
     "output_type": "error",
     "traceback": [
      "\u001b[1;31m---------------------------------------------------------------------------\u001b[0m",
      "\u001b[1;31mFileNotFoundError\u001b[0m                         Traceback (most recent call last)",
      "Cell \u001b[1;32mIn[9], line 3\u001b[0m\n\u001b[0;32m      1\u001b[0m folder \u001b[38;5;241m=\u001b[39m \u001b[38;5;124m\"\u001b[39m\u001b[38;5;124mC:\u001b[39m\u001b[38;5;130;01m\\\\\u001b[39;00m\u001b[38;5;124mUsers\u001b[39m\u001b[38;5;130;01m\\\\\u001b[39;00m\u001b[38;5;124mdeepak jain\u001b[39m\u001b[38;5;130;01m\\\\\u001b[39;00m\u001b[38;5;124mDesktop\u001b[39m\u001b[38;5;130;01m\\\\\u001b[39;00m\u001b[38;5;124mplag_check\u001b[39m\u001b[38;5;130;01m\\\\\u001b[39;00m\u001b[38;5;124mbuy_and_sell_stock\u001b[39m\u001b[38;5;124m\"\u001b[39m\n\u001b[1;32m----> 3\u001b[0m dag, sim_matrix, filenames \u001b[38;5;241m=\u001b[39m \u001b[43mcompute_similarity_dag\u001b[49m\u001b[43m(\u001b[49m\u001b[43mfolder\u001b[49m\u001b[43m)\u001b[49m\n\u001b[0;32m      5\u001b[0m \u001b[38;5;66;03m# 📈 Visualize\u001b[39;00m\n\u001b[0;32m      6\u001b[0m \u001b[38;5;28;01mimport\u001b[39;00m \u001b[38;5;21;01mmatplotlib\u001b[39;00m\u001b[38;5;21;01m.\u001b[39;00m\u001b[38;5;21;01mpyplot\u001b[39;00m \u001b[38;5;28;01mas\u001b[39;00m \u001b[38;5;21;01mplt\u001b[39;00m\n",
      "Cell \u001b[1;32mIn[4], line 2\u001b[0m, in \u001b[0;36mcompute_similarity_dag\u001b[1;34m(code_folder, threshold)\u001b[0m\n\u001b[0;32m      1\u001b[0m \u001b[38;5;28;01mdef\u001b[39;00m \u001b[38;5;21mcompute_similarity_dag\u001b[39m(code_folder, threshold\u001b[38;5;241m=\u001b[39m\u001b[38;5;241m0.6\u001b[39m):\n\u001b[1;32m----> 2\u001b[0m     files, code_snippets \u001b[38;5;241m=\u001b[39m \u001b[43mload_code_files\u001b[49m\u001b[43m(\u001b[49m\u001b[43mcode_folder\u001b[49m\u001b[43m)\u001b[49m\n\u001b[0;32m      4\u001b[0m     \u001b[38;5;66;03m# Vectorize using TF-IDF\u001b[39;00m\n\u001b[0;32m      5\u001b[0m     vectorizer \u001b[38;5;241m=\u001b[39m TfidfVectorizer()\n",
      "Cell \u001b[1;32mIn[3], line 4\u001b[0m, in \u001b[0;36mload_code_files\u001b[1;34m(folder_path)\u001b[0m\n\u001b[0;32m      2\u001b[0m files \u001b[38;5;241m=\u001b[39m []\n\u001b[0;32m      3\u001b[0m contents \u001b[38;5;241m=\u001b[39m []\n\u001b[1;32m----> 4\u001b[0m \u001b[38;5;28;01mfor\u001b[39;00m filename \u001b[38;5;129;01min\u001b[39;00m \u001b[38;5;28msorted\u001b[39m(\u001b[43mos\u001b[49m\u001b[38;5;241;43m.\u001b[39;49m\u001b[43mlistdir\u001b[49m\u001b[43m(\u001b[49m\u001b[43mfolder_path\u001b[49m\u001b[43m)\u001b[49m):\n\u001b[0;32m      5\u001b[0m     \u001b[38;5;28;01mif\u001b[39;00m filename\u001b[38;5;241m.\u001b[39mendswith(\u001b[38;5;124m\"\u001b[39m\u001b[38;5;124m.py\u001b[39m\u001b[38;5;124m\"\u001b[39m) \u001b[38;5;129;01mor\u001b[39;00m filename\u001b[38;5;241m.\u001b[39mendswith(\u001b[38;5;124m\"\u001b[39m\u001b[38;5;124m.cpp\u001b[39m\u001b[38;5;124m\"\u001b[39m) \u001b[38;5;129;01mor\u001b[39;00m filename\u001b[38;5;241m.\u001b[39mendswith(\u001b[38;5;124m\"\u001b[39m\u001b[38;5;124m.java\u001b[39m\u001b[38;5;124m\"\u001b[39m):\n\u001b[0;32m      6\u001b[0m         \u001b[38;5;28;01mwith\u001b[39;00m \u001b[38;5;28mopen\u001b[39m(os\u001b[38;5;241m.\u001b[39mpath\u001b[38;5;241m.\u001b[39mjoin(folder_path, filename), \u001b[38;5;124m'\u001b[39m\u001b[38;5;124mr\u001b[39m\u001b[38;5;124m'\u001b[39m, encoding\u001b[38;5;241m=\u001b[39m\u001b[38;5;124m'\u001b[39m\u001b[38;5;124mutf-8\u001b[39m\u001b[38;5;124m'\u001b[39m) \u001b[38;5;28;01mas\u001b[39;00m file:\n",
      "\u001b[1;31mFileNotFoundError\u001b[0m: [WinError 3] The system cannot find the path specified: 'C:\\\\Users\\\\deepak jain\\\\Desktop\\\\plag_check\\\\buy_and_sell_stock'"
     ]
    }
   ],
   "source": [
    "folder=r\"C:\\Users\\deepak jain\\Desktop\\Plag-check\\buy_and_sell_stock\"\n",
    "dag, sim_matrix, filenames = compute_similarity_dag(folder)\n",
    "\n",
    "# 📈 Visualize\n",
    "import matplotlib.pyplot as plt\n",
    "\n",
    "pos = nx.spring_layout(dag)\n",
    "nx.draw(dag, pos, with_labels=True, node_color='lightblue', edge_color='gray', node_size=2000)\n",
    "edge_labels = nx.get_edge_attributes(dag, 'weight')\n",
    "nx.draw_networkx_edge_labels(dag, pos, edge_labels={k: f\"{v:.2f}\" for k, v in edge_labels.items()})\n",
    "plt.title(\"Code Similarity DAG\")\n",
    "plt.show()\n",
    "\n"
   ]
  },
  {
   "cell_type": "code",
   "execution_count": null,
   "id": "e21c6f55",
   "metadata": {},
   "outputs": [],
   "source": []
  }
 ],
 "metadata": {
  "kernelspec": {
   "display_name": "Python 3",
   "language": "python",
   "name": "python3"
  },
  "language_info": {
   "codemirror_mode": {
    "name": "ipython",
    "version": 3
   },
   "file_extension": ".py",
   "mimetype": "text/x-python",
   "name": "python",
   "nbconvert_exporter": "python",
   "pygments_lexer": "ipython3",
   "version": "3.12.4"
  }
 },
 "nbformat": 4,
 "nbformat_minor": 5
}
